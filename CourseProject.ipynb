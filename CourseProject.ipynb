{
  "cells": [
    {
      "metadata": {
        "trusted": true
      },
      "cell_type": "code",
      "source": "import warnings\nwarnings.filterwarnings(\"ignore\")\n\nimport numpy as np\nimport pandas as pd\nimport io\n\npbc = pd.read_csv('pbcseq.csv',na_values=['?'])\npbc.head()",
      "execution_count": 51,
      "outputs": [
        {
          "output_type": "execute_result",
          "execution_count": 51,
          "data": {
            "text/html": "<div>\n<style scoped>\n    .dataframe tbody tr th:only-of-type {\n        vertical-align: middle;\n    }\n\n    .dataframe tbody tr th {\n        vertical-align: top;\n    }\n\n    .dataframe thead th {\n        text-align: right;\n    }\n</style>\n<table border=\"1\" class=\"dataframe\">\n  <thead>\n    <tr style=\"text-align: right;\">\n      <th></th>\n      <th>case_number</th>\n      <th>number_of_days</th>\n      <th>status</th>\n      <th>drug</th>\n      <th>age</th>\n      <th>sex</th>\n      <th>day</th>\n      <th>presence_of_asictes</th>\n      <th>presence_of_hepatomegaly</th>\n      <th>presence_of_spiders</th>\n      <th>presence_of_edema</th>\n      <th>serum_bilirubin</th>\n      <th>serum_cholesterol</th>\n      <th>albumin</th>\n      <th>alkaline_phosphatase</th>\n      <th>SGOT</th>\n      <th>platelets</th>\n      <th>prothrombin_time</th>\n      <th>histologic_stage_of_disease</th>\n    </tr>\n  </thead>\n  <tbody>\n    <tr>\n      <th>0</th>\n      <td>1</td>\n      <td>400</td>\n      <td>2</td>\n      <td>D-penicillamine</td>\n      <td>21464</td>\n      <td>female</td>\n      <td>no</td>\n      <td>yes</td>\n      <td>yes</td>\n      <td>1.0</td>\n      <td>1.0</td>\n      <td>14.5</td>\n      <td>261.0</td>\n      <td>2.60</td>\n      <td>1718.0</td>\n      <td>138.0</td>\n      <td>190.0</td>\n      <td>12.2</td>\n      <td>4</td>\n    </tr>\n    <tr>\n      <th>1</th>\n      <td>1</td>\n      <td>400</td>\n      <td>2</td>\n      <td>D-penicillamine</td>\n      <td>21464</td>\n      <td>female</td>\n      <td>192</td>\n      <td>yes</td>\n      <td>yes</td>\n      <td>1.0</td>\n      <td>1.0</td>\n      <td>21.3</td>\n      <td>NaN</td>\n      <td>2.94</td>\n      <td>1612.0</td>\n      <td>6.2</td>\n      <td>183.0</td>\n      <td>11.2</td>\n      <td>4</td>\n    </tr>\n    <tr>\n      <th>2</th>\n      <td>2</td>\n      <td>5169</td>\n      <td>0</td>\n      <td>D-penicillamine</td>\n      <td>20617</td>\n      <td>female</td>\n      <td>no</td>\n      <td>no</td>\n      <td>yes</td>\n      <td>1.0</td>\n      <td>0.0</td>\n      <td>1.1</td>\n      <td>302.0</td>\n      <td>4.14</td>\n      <td>7395.0</td>\n      <td>113.5</td>\n      <td>221.0</td>\n      <td>10.6</td>\n      <td>3</td>\n    </tr>\n    <tr>\n      <th>3</th>\n      <td>2</td>\n      <td>5169</td>\n      <td>0</td>\n      <td>D-penicillamine</td>\n      <td>20617</td>\n      <td>female</td>\n      <td>182</td>\n      <td>no</td>\n      <td>yes</td>\n      <td>1.0</td>\n      <td>0.0</td>\n      <td>0.8</td>\n      <td>NaN</td>\n      <td>3.60</td>\n      <td>2107.0</td>\n      <td>139.5</td>\n      <td>188.0</td>\n      <td>11.0</td>\n      <td>3</td>\n    </tr>\n    <tr>\n      <th>4</th>\n      <td>2</td>\n      <td>5169</td>\n      <td>0</td>\n      <td>D-penicillamine</td>\n      <td>20617</td>\n      <td>female</td>\n      <td>365</td>\n      <td>no</td>\n      <td>yes</td>\n      <td>1.0</td>\n      <td>0.0</td>\n      <td>1.0</td>\n      <td>NaN</td>\n      <td>3.55</td>\n      <td>1711.0</td>\n      <td>144.2</td>\n      <td>161.0</td>\n      <td>11.6</td>\n      <td>3</td>\n    </tr>\n  </tbody>\n</table>\n</div>",
            "text/plain": "   case_number  number_of_days  status             drug    age     sex  day  \\\n0            1             400       2  D-penicillamine  21464  female   no   \n1            1             400       2  D-penicillamine  21464  female  192   \n2            2            5169       0  D-penicillamine  20617  female   no   \n3            2            5169       0  D-penicillamine  20617  female  182   \n4            2            5169       0  D-penicillamine  20617  female  365   \n\n  presence_of_asictes presence_of_hepatomegaly  presence_of_spiders  \\\n0                 yes                      yes                  1.0   \n1                 yes                      yes                  1.0   \n2                  no                      yes                  1.0   \n3                  no                      yes                  1.0   \n4                  no                      yes                  1.0   \n\n   presence_of_edema  serum_bilirubin  serum_cholesterol  albumin  \\\n0                1.0             14.5              261.0     2.60   \n1                1.0             21.3                NaN     2.94   \n2                0.0              1.1              302.0     4.14   \n3                0.0              0.8                NaN     3.60   \n4                0.0              1.0                NaN     3.55   \n\n   alkaline_phosphatase   SGOT  platelets  prothrombin_time  \\\n0                1718.0  138.0      190.0              12.2   \n1                1612.0    6.2      183.0              11.2   \n2                7395.0  113.5      221.0              10.6   \n3                2107.0  139.5      188.0              11.0   \n4                1711.0  144.2      161.0              11.6   \n\n   histologic_stage_of_disease  \n0                            4  \n1                            4  \n2                            3  \n3                            3  \n4                            3  "
          },
          "metadata": {}
        }
      ]
    },
    {
      "metadata": {},
      "cell_type": "markdown",
      "source": "Deleting unneccessary columns"
    },
    {
      "metadata": {
        "trusted": true
      },
      "cell_type": "code",
      "source": "del pbc['case_number']\ndel pbc['day']",
      "execution_count": 52,
      "outputs": []
    },
    {
      "metadata": {},
      "cell_type": "markdown",
      "source": "Dealing with missing values "
    },
    {
      "metadata": {
        "trusted": true
      },
      "cell_type": "code",
      "source": "cat_cols = ['drug','sex','presence_of_asictes','presence_of_hepatomegaly','presence_of_spiders','presence_of_edema','histologic_stage_of_disease']\nnum_cols = ['number_of_days','age','serum_bilirubin','serum_cholesterol','albumin','alkaline_phosphatase','SGOT','platelets','prothrombin_time']",
      "execution_count": 53,
      "outputs": []
    },
    {
      "metadata": {
        "trusted": true
      },
      "cell_type": "code",
      "source": "pbc[cat_cols] = pbc[cat_cols].astype(np.object)\npbc[num_cols] = pbc[num_cols].astype(np.number)\npbc.dtypes",
      "execution_count": 54,
      "outputs": [
        {
          "output_type": "execute_result",
          "execution_count": 54,
          "data": {
            "text/plain": "number_of_days                 float64\nstatus                           int64\ndrug                            object\nage                            float64\nsex                             object\npresence_of_asictes             object\npresence_of_hepatomegaly        object\npresence_of_spiders             object\npresence_of_edema               object\nserum_bilirubin                float64\nserum_cholesterol              float64\nalbumin                        float64\nalkaline_phosphatase           float64\nSGOT                           float64\nplatelets                      float64\nprothrombin_time               float64\nhistologic_stage_of_disease     object\ndtype: object"
          },
          "metadata": {}
        }
      ]
    },
    {
      "metadata": {
        "trusted": true
      },
      "cell_type": "code",
      "source": "pbc.describe(include=np.object)",
      "execution_count": 55,
      "outputs": [
        {
          "output_type": "execute_result",
          "execution_count": 55,
          "data": {
            "text/html": "<div>\n<style scoped>\n    .dataframe tbody tr th:only-of-type {\n        vertical-align: middle;\n    }\n\n    .dataframe tbody tr th {\n        vertical-align: top;\n    }\n\n    .dataframe thead th {\n        text-align: right;\n    }\n</style>\n<table border=\"1\" class=\"dataframe\">\n  <thead>\n    <tr style=\"text-align: right;\">\n      <th></th>\n      <th>drug</th>\n      <th>sex</th>\n      <th>presence_of_asictes</th>\n      <th>presence_of_hepatomegaly</th>\n      <th>presence_of_spiders</th>\n      <th>presence_of_edema</th>\n      <th>histologic_stage_of_disease</th>\n    </tr>\n  </thead>\n  <tbody>\n    <tr>\n      <th>count</th>\n      <td>1945</td>\n      <td>1945</td>\n      <td>1885</td>\n      <td>1884</td>\n      <td>1887.0</td>\n      <td>1945.0</td>\n      <td>1945</td>\n    </tr>\n    <tr>\n      <th>unique</th>\n      <td>2</td>\n      <td>2</td>\n      <td>2</td>\n      <td>2</td>\n      <td>2.0</td>\n      <td>3.0</td>\n      <td>4</td>\n    </tr>\n    <tr>\n      <th>top</th>\n      <td>D-penicillamine</td>\n      <td>female</td>\n      <td>no</td>\n      <td>no</td>\n      <td>0.0</td>\n      <td>0.0</td>\n      <td>4</td>\n    </tr>\n    <tr>\n      <th>freq</th>\n      <td>978</td>\n      <td>1708</td>\n      <td>1716</td>\n      <td>952</td>\n      <td>1311.0</td>\n      <td>1401.0</td>\n      <td>972</td>\n    </tr>\n  </tbody>\n</table>\n</div>",
            "text/plain": "                   drug     sex presence_of_asictes presence_of_hepatomegaly  \\\ncount              1945    1945                1885                     1884   \nunique                2       2                   2                        2   \ntop     D-penicillamine  female                  no                       no   \nfreq                978    1708                1716                      952   \n\n        presence_of_spiders  presence_of_edema  histologic_stage_of_disease  \ncount                1887.0             1945.0                         1945  \nunique                  2.0                3.0                            4  \ntop                     0.0                0.0                            4  \nfreq                 1311.0             1401.0                          972  "
          },
          "metadata": {}
        }
      ]
    },
    {
      "metadata": {
        "trusted": true
      },
      "cell_type": "code",
      "source": "pbc.describe(include=np.number).round(3)",
      "execution_count": 56,
      "outputs": [
        {
          "output_type": "execute_result",
          "execution_count": 56,
          "data": {
            "text/html": "<div>\n<style scoped>\n    .dataframe tbody tr th:only-of-type {\n        vertical-align: middle;\n    }\n\n    .dataframe tbody tr th {\n        vertical-align: top;\n    }\n\n    .dataframe thead th {\n        text-align: right;\n    }\n</style>\n<table border=\"1\" class=\"dataframe\">\n  <thead>\n    <tr style=\"text-align: right;\">\n      <th></th>\n      <th>number_of_days</th>\n      <th>status</th>\n      <th>age</th>\n      <th>serum_bilirubin</th>\n      <th>serum_cholesterol</th>\n      <th>albumin</th>\n      <th>alkaline_phosphatase</th>\n      <th>SGOT</th>\n      <th>platelets</th>\n      <th>prothrombin_time</th>\n    </tr>\n  </thead>\n  <tbody>\n    <tr>\n      <th>count</th>\n      <td>1945.000</td>\n      <td>1945.000</td>\n      <td>1945.000</td>\n      <td>1945.000</td>\n      <td>1124.000</td>\n      <td>1945.000</td>\n      <td>1885.000</td>\n      <td>1945.000</td>\n      <td>1872.000</td>\n      <td>1945.000</td>\n    </tr>\n    <tr>\n      <th>mean</th>\n      <td>2940.752</td>\n      <td>0.821</td>\n      <td>17992.080</td>\n      <td>3.672</td>\n      <td>320.472</td>\n      <td>3.390</td>\n      <td>1381.912</td>\n      <td>122.670</td>\n      <td>233.681</td>\n      <td>10.998</td>\n    </tr>\n    <tr>\n      <th>std</th>\n      <td>1271.282</td>\n      <td>0.945</td>\n      <td>3675.029</td>\n      <td>5.373</td>\n      <td>166.717</td>\n      <td>0.503</td>\n      <td>1195.624</td>\n      <td>78.438</td>\n      <td>97.663</td>\n      <td>1.479</td>\n    </tr>\n    <tr>\n      <th>min</th>\n      <td>41.000</td>\n      <td>0.000</td>\n      <td>9598.000</td>\n      <td>0.100</td>\n      <td>55.000</td>\n      <td>1.170</td>\n      <td>73.000</td>\n      <td>6.200</td>\n      <td>40.000</td>\n      <td>9.000</td>\n    </tr>\n    <tr>\n      <th>25%</th>\n      <td>2055.000</td>\n      <td>0.000</td>\n      <td>15265.000</td>\n      <td>0.800</td>\n      <td>235.000</td>\n      <td>3.110</td>\n      <td>737.000</td>\n      <td>72.000</td>\n      <td>165.000</td>\n      <td>10.100</td>\n    </tr>\n    <tr>\n      <th>50%</th>\n      <td>2963.000</td>\n      <td>0.000</td>\n      <td>17850.000</td>\n      <td>1.400</td>\n      <td>281.000</td>\n      <td>3.440</td>\n      <td>1072.000</td>\n      <td>107.000</td>\n      <td>228.000</td>\n      <td>10.800</td>\n    </tr>\n    <tr>\n      <th>75%</th>\n      <td>3819.000</td>\n      <td>2.000</td>\n      <td>20510.000</td>\n      <td>3.900</td>\n      <td>349.250</td>\n      <td>3.700</td>\n      <td>1636.000</td>\n      <td>155.000</td>\n      <td>290.250</td>\n      <td>11.500</td>\n    </tr>\n    <tr>\n      <th>max</th>\n      <td>5225.000</td>\n      <td>2.000</td>\n      <td>28650.000</td>\n      <td>41.000</td>\n      <td>1775.000</td>\n      <td>8.010</td>\n      <td>13862.000</td>\n      <td>1205.000</td>\n      <td>991.000</td>\n      <td>36.000</td>\n    </tr>\n  </tbody>\n</table>\n</div>",
            "text/plain": "       number_of_days    status        age  serum_bilirubin  \\\ncount        1945.000  1945.000   1945.000         1945.000   \nmean         2940.752     0.821  17992.080            3.672   \nstd          1271.282     0.945   3675.029            5.373   \nmin            41.000     0.000   9598.000            0.100   \n25%          2055.000     0.000  15265.000            0.800   \n50%          2963.000     0.000  17850.000            1.400   \n75%          3819.000     2.000  20510.000            3.900   \nmax          5225.000     2.000  28650.000           41.000   \n\n       serum_cholesterol   albumin  alkaline_phosphatase      SGOT  platelets  \\\ncount           1124.000  1945.000              1885.000  1945.000   1872.000   \nmean             320.472     3.390              1381.912   122.670    233.681   \nstd              166.717     0.503              1195.624    78.438     97.663   \nmin               55.000     1.170                73.000     6.200     40.000   \n25%              235.000     3.110               737.000    72.000    165.000   \n50%              281.000     3.440              1072.000   107.000    228.000   \n75%              349.250     3.700              1636.000   155.000    290.250   \nmax             1775.000     8.010             13862.000  1205.000    991.000   \n\n       prothrombin_time  \ncount          1945.000  \nmean             10.998  \nstd               1.479  \nmin               9.000  \n25%              10.100  \n50%              10.800  \n75%              11.500  \nmax              36.000  "
          },
          "metadata": {}
        }
      ]
    },
    {
      "metadata": {
        "trusted": true
      },
      "cell_type": "code",
      "source": "pbc[cat_cols] = pbc[cat_cols].fillna(pbc.mode().iloc[0])\npbc[num_cols] = pbc[num_cols].fillna(pbc.median().iloc[0])\npbc.isna().sum()",
      "execution_count": 57,
      "outputs": [
        {
          "output_type": "execute_result",
          "execution_count": 57,
          "data": {
            "text/plain": "number_of_days                 0\nstatus                         0\ndrug                           0\nage                            0\nsex                            0\npresence_of_asictes            0\npresence_of_hepatomegaly       0\npresence_of_spiders            0\npresence_of_edema              0\nserum_bilirubin                0\nserum_cholesterol              0\nalbumin                        0\nalkaline_phosphatase           0\nSGOT                           0\nplatelets                      0\nprothrombin_time               0\nhistologic_stage_of_disease    0\ndtype: int64"
          },
          "metadata": {}
        }
      ]
    },
    {
      "metadata": {
        "trusted": true
      },
      "cell_type": "code",
      "source": "pbc['age']=(pbc['age']/365).round(0)\npbc['age'] = pbc['age'].astype(np.integer)",
      "execution_count": 58,
      "outputs": []
    },
    {
      "metadata": {
        "trusted": true
      },
      "cell_type": "code",
      "source": "pbc1 = pbc.copy()\npbc1['age'] = pd.qcut(pbc['age'], q=3, labels=['young', 'mid-age', 'old'])\npbc1['age'].value_counts()",
      "execution_count": 69,
      "outputs": [
        {
          "output_type": "execute_result",
          "execution_count": 69,
          "data": {
            "text/plain": "young      724\nold        615\nmid-age    606\nName: age, dtype: int64"
          },
          "metadata": {}
        }
      ]
    },
    {
      "metadata": {
        "trusted": true
      },
      "cell_type": "code",
      "source": "",
      "execution_count": null,
      "outputs": []
    },
    {
      "metadata": {
        "trusted": true
      },
      "cell_type": "code",
      "source": "",
      "execution_count": null,
      "outputs": []
    },
    {
      "metadata": {
        "trusted": true
      },
      "cell_type": "code",
      "source": "",
      "execution_count": null,
      "outputs": []
    }
  ],
  "metadata": {
    "kernelspec": {
      "name": "python36",
      "display_name": "Python 3.6",
      "language": "python"
    },
    "language_info": {
      "mimetype": "text/x-python",
      "nbconvert_exporter": "python",
      "name": "python",
      "pygments_lexer": "ipython3",
      "version": "3.6.6",
      "file_extension": ".py",
      "codemirror_mode": {
        "version": 3,
        "name": "ipython"
      }
    }
  },
  "nbformat": 4,
  "nbformat_minor": 2
}